{
 "cells": [
  {
   "cell_type": "code",
   "execution_count": 1,
   "metadata": {},
   "outputs": [],
   "source": [
    "import tensorflow as tf"
   ]
  },
  {
   "cell_type": "code",
   "execution_count": 2,
   "metadata": {},
   "outputs": [
    {
     "name": "stdout",
     "output_type": "stream",
     "text": [
      "<module 'tensorflow._api.v2.version' from 'E:\\\\Anaconda\\\\lib\\\\site-packages\\\\tensorflow\\\\_api\\\\v2\\\\version\\\\__init__.py'>\n"
     ]
    }
   ],
   "source": [
    "print(tf.version)"
   ]
  },
  {
   "cell_type": "code",
   "execution_count": 3,
   "metadata": {},
   "outputs": [
    {
     "name": "stdout",
     "output_type": "stream",
     "text": [
      "tf.Tensor([[4]], shape=(1, 1), dtype=int64)\n"
     ]
    }
   ],
   "source": [
    "#Intitialization of Tensors\n",
    "x = tf.constant(4, shape = (1,1), dtype = tf.int64)\n",
    "print(x)"
   ]
  },
  {
   "cell_type": "code",
   "execution_count": 4,
   "metadata": {},
   "outputs": [
    {
     "name": "stdout",
     "output_type": "stream",
     "text": [
      "tf.Tensor(\n",
      "[[1 2]\n",
      " [3 4]\n",
      " [5 6]], shape=(3, 2), dtype=int32)\n"
     ]
    }
   ],
   "source": [
    "x = tf.constant([[1,2,3], [4,5,6]], shape = (3,2))\n",
    "print(x)"
   ]
  },
  {
   "cell_type": "code",
   "execution_count": 6,
   "metadata": {},
   "outputs": [
    {
     "name": "stdout",
     "output_type": "stream",
     "text": [
      "tf.Tensor(\n",
      "[[1 1 1 1 1]\n",
      " [1 1 1 1 1]\n",
      " [1 1 1 1 1]\n",
      " [1 1 1 1 1]\n",
      " [1 1 1 1 1]], shape=(5, 5), dtype=int64)\n"
     ]
    }
   ],
   "source": [
    "x = tf.ones(shape = (5,5), dtype = tf.int64)\n",
    "print(x)"
   ]
  },
  {
   "cell_type": "code",
   "execution_count": 7,
   "metadata": {},
   "outputs": [
    {
     "name": "stdout",
     "output_type": "stream",
     "text": [
      "tf.Tensor(\n",
      "[[0 0 0 0]\n",
      " [0 0 0 0]\n",
      " [0 0 0 0]\n",
      " [0 0 0 0]], shape=(4, 4), dtype=int64)\n"
     ]
    }
   ],
   "source": [
    "x = tf.zeros((4,4), dtype = tf.int64)\n",
    "print(x)"
   ]
  },
  {
   "cell_type": "code",
   "execution_count": 8,
   "metadata": {},
   "outputs": [
    {
     "name": "stdout",
     "output_type": "stream",
     "text": [
      "tf.Tensor(\n",
      "[[1. 0. 0.]\n",
      " [0. 1. 0.]\n",
      " [0. 0. 1.]], shape=(3, 3), dtype=float32)\n"
     ]
    }
   ],
   "source": [
    "x = tf.eye(3)\n",
    "print(x)"
   ]
  },
  {
   "cell_type": "code",
   "execution_count": 9,
   "metadata": {},
   "outputs": [
    {
     "name": "stdout",
     "output_type": "stream",
     "text": [
      "tf.Tensor(\n",
      "[[ 1.6506687  -2.109423   -1.3962345 ]\n",
      " [-0.7634407   0.23373425 -1.3967476 ]\n",
      " [-1.9738145  -1.3692828   0.9849048 ]], shape=(3, 3), dtype=float32)\n"
     ]
    }
   ],
   "source": [
    "x = tf.random.normal((3,3), mean = 0, stddev = 1)\n",
    "print(x)"
   ]
  },
  {
   "cell_type": "code",
   "execution_count": 16,
   "metadata": {},
   "outputs": [
    {
     "name": "stdout",
     "output_type": "stream",
     "text": [
      "tf.Tensor(\n",
      "[[0.09952724 0.7161013  0.5961286 ]\n",
      " [0.9448985  0.20621645 0.00531912]\n",
      " [0.23502982 0.34811652 0.3283391 ]], shape=(3, 3), dtype=float32)\n"
     ]
    }
   ],
   "source": [
    "x = tf.random.uniform((3,3), minval = 0, maxval = 1 )\n",
    "print(x)"
   ]
  },
  {
   "cell_type": "code",
   "execution_count": 17,
   "metadata": {},
   "outputs": [
    {
     "name": "stdout",
     "output_type": "stream",
     "text": [
      "tf.Tensor([0 1 2 3 4 5 6 7 8], shape=(9,), dtype=int32)\n"
     ]
    }
   ],
   "source": [
    "x = tf.range(9)\n",
    "print(x)"
   ]
  },
  {
   "cell_type": "code",
   "execution_count": 18,
   "metadata": {},
   "outputs": [
    {
     "name": "stdout",
     "output_type": "stream",
     "text": [
      "tf.Tensor([ 0  2  4  6  8 10], shape=(6,), dtype=int32)\n"
     ]
    }
   ],
   "source": [
    "x = tf.range(start = 0, limit = 11, delta = 2)\n",
    "print(x)"
   ]
  },
  {
   "cell_type": "code",
   "execution_count": 19,
   "metadata": {},
   "outputs": [
    {
     "name": "stdout",
     "output_type": "stream",
     "text": [
      "tf.Tensor([ 0.  2.  4.  6.  8. 10.], shape=(6,), dtype=float64)\n"
     ]
    }
   ],
   "source": [
    "x = tf.cast(x, dtype = tf.float64)\n",
    "print(x)"
   ]
  },
  {
   "cell_type": "code",
   "execution_count": 6,
   "metadata": {},
   "outputs": [
    {
     "name": "stdout",
     "output_type": "stream",
     "text": [
      "tf.Tensor(\n",
      "[[ 5  7  9]\n",
      " [ 8 10 12]], shape=(2, 3), dtype=int32)\n",
      "tf.Tensor(\n",
      "[[-3 -3 -3]\n",
      " [ 0  0  0]], shape=(2, 3), dtype=int32)\n",
      "tf.Tensor(\n",
      "[[0.25 0.4  0.5 ]\n",
      " [1.   1.   1.  ]], shape=(2, 3), dtype=float64)\n",
      "tf.Tensor(\n",
      "[[ 4 10 18]\n",
      " [16 25 36]], shape=(2, 3), dtype=int32)\n",
      "tf.Tensor([32 77], shape=(2,), dtype=int32)\n",
      "tf.Tensor(\n",
      "[[1 2 3]\n",
      " [4 5 6]], shape=(2, 3), dtype=int32)\n"
     ]
    }
   ],
   "source": [
    "x = tf.constant([[1,2,3], [4,5,6]])\n",
    "y = tf.constant([4,5,6])\n",
    "a = tf.add(x,y)\n",
    "s = tf.subtract(x,y)\n",
    "d = tf.divide(x,y)\n",
    "m = tf.multiply(x,y)\n",
    "t = tf.reduce_sum(x*y, axis = 1)\n",
    "print(a)\n",
    "print(s)\n",
    "print(d)\n",
    "print(m)\n",
    "print(t)\n",
    "print(x)"
   ]
  },
  {
   "cell_type": "code",
   "execution_count": 36,
   "metadata": {},
   "outputs": [
    {
     "name": "stdout",
     "output_type": "stream",
     "text": [
      "tf.Tensor(\n",
      "[[   1   32  243]\n",
      " [1024 3125 7776]], shape=(2, 3), dtype=int32)\n"
     ]
    }
   ],
   "source": [
    "z = x**5\n",
    "print(z)"
   ]
  },
  {
   "cell_type": "code",
   "execution_count": 7,
   "metadata": {},
   "outputs": [
    {
     "name": "stdout",
     "output_type": "stream",
     "text": [
      "tf.Tensor([[ 0.35159594 -0.25772667  0.25194302 -1.0026737   0.81180555]], shape=(1, 5), dtype=float32)\n",
      "tf.Tensor(\n",
      "[[-0.98035616 -0.14598584 -0.6035484  -0.26627898  0.45615554 -3.3332214\n",
      "   0.6892321   0.6135422   0.59144807 -2.9027815 ]], shape=(1, 10), dtype=float32)\n"
     ]
    }
   ],
   "source": [
    "x = tf.random.normal((1,5))\n",
    "y = tf.random.normal((5,10))\n",
    "z = x @ y\n",
    "print(x)\n",
    "print(z)"
   ]
  },
  {
   "cell_type": "code",
   "execution_count": 51,
   "metadata": {},
   "outputs": [
    {
     "name": "stdout",
     "output_type": "stream",
     "text": [
      "tf.Tensor([1 2 3 4 5 6 7 8 9], shape=(9,), dtype=int32)\n",
      "tf.Tensor([2 3 4 5 6 7 8 9], shape=(8,), dtype=int32)\n",
      "tf.Tensor([9 8 7 6 5 4 3 2 1], shape=(9,), dtype=int32)\n",
      "tf.Tensor([1 3 5 7 9], shape=(5,), dtype=int32)\n",
      "tf.Tensor([1 4], shape=(2,), dtype=int32)\n"
     ]
    }
   ],
   "source": [
    "x = tf.constant([1,2,3,4,5,6,7,8,9])\n",
    "print(x[:])\n",
    "print(x[1:])\n",
    "print(x[::-1])\n",
    "print(x[::2])\n",
    "indices = tf.constant([0,3])\n",
    "x_in = tf.gather(x, indices)\n",
    "print(x_in)"
   ]
  },
  {
   "cell_type": "code",
   "execution_count": 54,
   "metadata": {},
   "outputs": [
    {
     "name": "stdout",
     "output_type": "stream",
     "text": [
      "tf.Tensor([1 2], shape=(2,), dtype=int32)\n",
      "tf.Tensor(\n",
      "[[1 2]\n",
      " [3 4]\n",
      " [5 6]], shape=(3, 2), dtype=int32)\n",
      "tf.Tensor(4, shape=(), dtype=int32)\n"
     ]
    }
   ],
   "source": [
    "x = tf.constant([[1,2],\n",
    "                 [3,4],\n",
    "                 [5,6]])\n",
    "print(x[0,:])\n",
    "print(x[:,:])\n",
    "print(x[1,1])"
   ]
  },
  {
   "cell_type": "code",
   "execution_count": 63,
   "metadata": {},
   "outputs": [
    {
     "name": "stdout",
     "output_type": "stream",
     "text": [
      "tf.Tensor(\n",
      "[[ 0.63074917  0.06714085 -1.8509215 ]\n",
      " [-1.0622646  -0.42228335  0.93900007]\n",
      " [-0.6324736   0.46302816  1.1456529 ]], shape=(3, 3), dtype=float32)\n"
     ]
    }
   ],
   "source": [
    "x = tf.random.normal((1,9))\n",
    "x = tf.reshape(x, (3,3))\n",
    "print(x)"
   ]
  },
  {
   "cell_type": "code",
   "execution_count": 64,
   "metadata": {},
   "outputs": [
    {
     "name": "stdout",
     "output_type": "stream",
     "text": [
      "tf.Tensor(\n",
      "[[ 0.63074917 -1.0622646  -0.6324736 ]\n",
      " [ 0.06714085 -0.42228335  0.46302816]\n",
      " [-1.8509215   0.93900007  1.1456529 ]], shape=(3, 3), dtype=float32)\n"
     ]
    }
   ],
   "source": [
    "x = tf.transpose(x, perm = [1,0])\n",
    "print(x)"
   ]
  },
  {
   "cell_type": "code",
   "execution_count": 65,
   "metadata": {},
   "outputs": [
    {
     "name": "stdout",
     "output_type": "stream",
     "text": [
      "tf.Tensor(\n",
      "[[ 0.63074917  0.06714085 -1.8509215 ]\n",
      " [-1.0622646  -0.42228335  0.93900007]\n",
      " [-0.6324736   0.46302816  1.1456529 ]], shape=(3, 3), dtype=float32)\n"
     ]
    }
   ],
   "source": [
    "x = tf.transpose(x)\n",
    "print(x)"
   ]
  },
  {
   "cell_type": "code",
   "execution_count": null,
   "metadata": {},
   "outputs": [],
   "source": []
  }
 ],
 "metadata": {
  "kernelspec": {
   "display_name": "Python 3",
   "language": "python",
   "name": "python3"
  },
  "language_info": {
   "codemirror_mode": {
    "name": "ipython",
    "version": 3
   },
   "file_extension": ".py",
   "mimetype": "text/x-python",
   "name": "python",
   "nbconvert_exporter": "python",
   "pygments_lexer": "ipython3",
   "version": "3.8.5"
  }
 },
 "nbformat": 4,
 "nbformat_minor": 4
}
