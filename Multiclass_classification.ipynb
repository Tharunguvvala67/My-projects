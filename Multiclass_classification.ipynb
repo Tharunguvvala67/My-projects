{
 "cells": [
  {
   "cell_type": "code",
   "execution_count": 47,
   "metadata": {},
   "outputs": [],
   "source": [
    "import numpy as np\n",
    "import matplotlib.pyplot as plt\n",
    "import tensorflow.keras\n",
    "from tensorflow.keras.models import Sequential\n",
    "from tensorflow.keras.layers import Dense\n",
    "from tensorflow.keras.optimizers import Adam\n",
    "from sklearn import datasets\n",
    "from keras.utils.np_utils import to_categorical"
   ]
  },
  {
   "cell_type": "code",
   "execution_count": 48,
   "metadata": {},
   "outputs": [],
   "source": [
    "n_pts = 500\n",
    "centers = [[-1,1],[-1,-1],[1,-1]]\n",
    "X,y = datasets.make_blobs(n_samples = n_pts, random_state = 123, centers = centers, cluster_std = 0.4)"
   ]
  },
  {
   "cell_type": "code",
   "execution_count": 49,
   "metadata": {},
   "outputs": [
    {
     "data": {
      "text/plain": [
       "<matplotlib.collections.PathCollection at 0xbc0218ee0>"
      ]
     },
     "execution_count": 49,
     "metadata": {},
     "output_type": "execute_result"
    },
    {
     "data": {
      "image/png": "[encoded data removed]",
      "text/plain": [
       "<Figure size 432x288 with 1 Axes>"
      ]
     },
     "metadata": {
      "needs_background": "light"
     },
     "output_type": "display_data"
    }
   ],
   "source": [
    "plt.scatter(X[y==0,0], X[y==0,1])\n",
    "plt.scatter(X[y==1,0], X[y==1,1])\n",
    "plt.scatter(X[y==2,0], X[y==2,1])"
   ]
  },
  {
   "cell_type": "code",
   "execution_count": 50,
   "metadata": {},
   "outputs": [],
   "source": [
    "y_cat = to_categorical(y,3)"
   ]
  },
  {
   "cell_type": "code",
   "execution_count": 51,
   "metadata": {},
   "outputs": [
    {
     "name": "stdout",
     "output_type": "stream",
     "text": [
      "Epoch 1/100\n",
      "10/10 [==============================] - 1s 2ms/step - loss: 1.0986 - accuracy: 0.3599\n",
      "Epoch 2/100\n",
      "10/10 [==============================] - 0s 3ms/step - loss: 0.3209 - accuracy: 0.9780\n",
      "Epoch 3/100\n",
      "10/10 [==============================] - 0s 2ms/step - loss: 0.1558 - accuracy: 0.9851\n",
      "Epoch 4/100\n",
      "10/10 [==============================] - 0s 3ms/step - loss: 0.0981 - accuracy: 0.9893\n",
      "Epoch 5/100\n",
      "10/10 [==============================] - 0s 2ms/step - loss: 0.0798 - accuracy: 0.9904\n",
      "Epoch 6/100\n",
      "10/10 [==============================] - 0s 2ms/step - loss: 0.0722 - accuracy: 0.9894\n",
      "Epoch 7/100\n",
      "10/10 [==============================] - 0s 3ms/step - loss: 0.0581 - accuracy: 0.9907\n",
      "Epoch 8/100\n",
      "10/10 [==============================] - 0s 3ms/step - loss: 0.0547 - accuracy: 0.9949\n",
      "Epoch 9/100\n",
      "10/10 [==============================] - 0s 4ms/step - loss: 0.0558 - accuracy: 0.9903\n",
      "Epoch 10/100\n",
      "10/10 [==============================] - 0s 2ms/step - loss: 0.0495 - accuracy: 0.9900\n",
      "Epoch 11/100\n",
      "10/10 [==============================] - 0s 2ms/step - loss: 0.0491 - accuracy: 0.9915\n",
      "Epoch 12/100\n",
      "10/10 [==============================] - 0s 2ms/step - loss: 0.0432 - accuracy: 0.9908\n",
      "Epoch 13/100\n",
      "10/10 [==============================] - 0s 2ms/step - loss: 0.0422 - accuracy: 0.9921\n",
      "Epoch 14/100\n",
      "10/10 [==============================] - 0s 3ms/step - loss: 0.0434 - accuracy: 0.9919\n",
      "Epoch 15/100\n",
      "10/10 [==============================] - 0s 2ms/step - loss: 0.0379 - accuracy: 0.9940\n",
      "Epoch 16/100\n",
      "10/10 [==============================] - 0s 2ms/step - loss: 0.0474 - accuracy: 0.9867\n",
      "Epoch 17/100\n",
      "10/10 [==============================] - 0s 2ms/step - loss: 0.0380 - accuracy: 0.9929\n",
      "Epoch 18/100\n",
      "10/10 [==============================] - 0s 2ms/step - loss: 0.0346 - accuracy: 0.9949\n",
      "Epoch 19/100\n",
      "10/10 [==============================] - 0s 2ms/step - loss: 0.0318 - accuracy: 0.9961\n",
      "Epoch 20/100\n",
      "10/10 [==============================] - 0s 3ms/step - loss: 0.0367 - accuracy: 0.9896\n",
      "Epoch 21/100\n",
      "10/10 [==============================] - 0s 2ms/step - loss: 0.0446 - accuracy: 0.9882\n",
      "Epoch 22/100\n",
      "10/10 [==============================] - 0s 2ms/step - loss: 0.0308 - accuracy: 0.9957\n",
      "Epoch 23/100\n",
      "10/10 [==============================] - 0s 2ms/step - loss: 0.0335 - accuracy: 0.9926\n",
      "Epoch 24/100\n",
      "10/10 [==============================] - 0s 2ms/step - loss: 0.0405 - accuracy: 0.9881\n",
      "Epoch 25/100\n",
      "10/10 [==============================] - 0s 2ms/step - loss: 0.0411 - accuracy: 0.9834\n",
      "Epoch 26/100\n",
      "10/10 [==============================] - 0s 2ms/step - loss: 0.0430 - accuracy: 0.9850\n",
      "Epoch 27/100\n",
      "10/10 [==============================] - 0s 2ms/step - loss: 0.0324 - accuracy: 0.9872\n",
      "Epoch 28/100\n",
      "10/10 [==============================] - 0s 3ms/step - loss: 0.0320 - accuracy: 0.9902\n",
      "Epoch 29/100\n",
      "10/10 [==============================] - 0s 3ms/step - loss: 0.0341 - accuracy: 0.9877\n",
      "Epoch 30/100\n",
      "10/10 [==============================] - 0s 2ms/step - loss: 0.0300 - accuracy: 0.9933\n",
      "Epoch 31/100\n",
      "10/10 [==============================] - 0s 2ms/step - loss: 0.0277 - accuracy: 0.9922\n",
      "Epoch 32/100\n",
      "10/10 [==============================] - 0s 2ms/step - loss: 0.0332 - accuracy: 0.9906\n",
      "Epoch 33/100\n",
      "10/10 [==============================] - 0s 2ms/step - loss: 0.0405 - accuracy: 0.9848\n",
      "Epoch 34/100\n",
      "10/10 [==============================] - 0s 2ms/step - loss: 0.0285 - accuracy: 0.9921\n",
      "Epoch 35/100\n",
      "10/10 [==============================] - 0s 2ms/step - loss: 0.0391 - accuracy: 0.9876\n",
      "Epoch 36/100\n",
      "10/10 [==============================] - 0s 2ms/step - loss: 0.0321 - accuracy: 0.9902\n",
      "Epoch 37/100\n",
      "10/10 [==============================] - 0s 2ms/step - loss: 0.0317 - accuracy: 0.9901\n",
      "Epoch 38/100\n",
      "10/10 [==============================] - 0s 2ms/step - loss: 0.0350 - accuracy: 0.9864\n",
      "Epoch 39/100\n",
      "10/10 [==============================] - 0s 2ms/step - loss: 0.0274 - accuracy: 0.9916\n",
      "Epoch 40/100\n",
      "10/10 [==============================] - 0s 2ms/step - loss: 0.0317 - accuracy: 0.9935\n",
      "Epoch 41/100\n",
      "10/10 [==============================] - 0s 2ms/step - loss: 0.0301 - accuracy: 0.9911\n",
      "Epoch 42/100\n",
      "10/10 [==============================] - 0s 2ms/step - loss: 0.0342 - accuracy: 0.9870\n",
      "Epoch 43/100\n",
      "10/10 [==============================] - 0s 2ms/step - loss: 0.0270 - accuracy: 0.9913\n",
      "Epoch 44/100\n",
      "10/10 [==============================] - 0s 2ms/step - loss: 0.0321 - accuracy: 0.9883\n",
      "Epoch 45/100\n",
      "10/10 [==============================] - 0s 1ms/step - loss: 0.0323 - accuracy: 0.9856\n",
      "Epoch 46/100\n",
      "10/10 [==============================] - 0s 2ms/step - loss: 0.0291 - accuracy: 0.9909\n",
      "Epoch 47/100\n",
      "10/10 [==============================] - 0s 2ms/step - loss: 0.0290 - accuracy: 0.9907\n",
      "Epoch 48/100\n",
      "10/10 [==============================] - 0s 3ms/step - loss: 0.0344 - accuracy: 0.9886\n",
      "Epoch 49/100\n",
      "10/10 [==============================] - 0s 2ms/step - loss: 0.0244 - accuracy: 0.9924\n",
      "Epoch 50/100\n",
      "10/10 [==============================] - 0s 3ms/step - loss: 0.0330 - accuracy: 0.9911\n",
      "Epoch 51/100\n",
      "10/10 [==============================] - 0s 3ms/step - loss: 0.0301 - accuracy: 0.9862\n",
      "Epoch 52/100\n",
      "10/10 [==============================] - 0s 3ms/step - loss: 0.0355 - accuracy: 0.9847\n",
      "Epoch 53/100\n",
      "10/10 [==============================] - 0s 2ms/step - loss: 0.0239 - accuracy: 0.9947\n",
      "Epoch 54/100\n",
      "10/10 [==============================] - 0s 2ms/step - loss: 0.0330 - accuracy: 0.9865\n",
      "Epoch 55/100\n",
      "10/10 [==============================] - 0s 2ms/step - loss: 0.0280 - accuracy: 0.9904\n",
      "Epoch 56/100\n",
      "10/10 [==============================] - 0s 2ms/step - loss: 0.0207 - accuracy: 0.9961\n",
      "Epoch 57/100\n",
      "10/10 [==============================] - 0s 2ms/step - loss: 0.0391 - accuracy: 0.9841\n",
      "Epoch 58/100\n",
      "10/10 [==============================] - 0s 2ms/step - loss: 0.0282 - accuracy: 0.9895\n",
      "Epoch 59/100\n",
      "10/10 [==============================] - 0s 2ms/step - loss: 0.0299 - accuracy: 0.9874\n",
      "Epoch 60/100\n",
      "10/10 [==============================] - 0s 2ms/step - loss: 0.0310 - accuracy: 0.9876\n",
      "Epoch 61/100\n",
      "10/10 [==============================] - 0s 2ms/step - loss: 0.0323 - accuracy: 0.9868\n",
      "Epoch 62/100\n",
      "10/10 [==============================] - 0s 2ms/step - loss: 0.0236 - accuracy: 0.9928\n",
      "Epoch 63/100\n",
      "10/10 [==============================] - 0s 2ms/step - loss: 0.0249 - accuracy: 0.9903\n",
      "Epoch 64/100\n",
      "10/10 [==============================] - 0s 2ms/step - loss: 0.0270 - accuracy: 0.9907\n",
      "Epoch 65/100\n",
      "10/10 [==============================] - 0s 2ms/step - loss: 0.0285 - accuracy: 0.9896\n",
      "Epoch 66/100\n",
      "10/10 [==============================] - 0s 2ms/step - loss: 0.0344 - accuracy: 0.9828\n",
      "Epoch 67/100\n",
      "10/10 [==============================] - 0s 2ms/step - loss: 0.0233 - accuracy: 0.9923\n",
      "Epoch 68/100\n",
      "10/10 [==============================] - 0s 2ms/step - loss: 0.0261 - accuracy: 0.9919\n",
      "Epoch 69/100\n",
      "10/10 [==============================] - 0s 2ms/step - loss: 0.0188 - accuracy: 0.9953\n",
      "Epoch 70/100\n",
      "10/10 [==============================] - 0s 2ms/step - loss: 0.0255 - accuracy: 0.9908\n",
      "Epoch 71/100\n",
      "10/10 [==============================] - 0s 2ms/step - loss: 0.0340 - accuracy: 0.9863\n",
      "Epoch 72/100\n",
      "10/10 [==============================] - 0s 2ms/step - loss: 0.0312 - accuracy: 0.9885\n",
      "Epoch 73/100\n",
      "10/10 [==============================] - 0s 3ms/step - loss: 0.0226 - accuracy: 0.9904\n",
      "Epoch 74/100\n",
      "10/10 [==============================] - 0s 3ms/step - loss: 0.0275 - accuracy: 0.9894\n",
      "Epoch 75/100\n",
      "10/10 [==============================] - 0s 3ms/step - loss: 0.0234 - accuracy: 0.9902\n",
      "Epoch 76/100\n",
      "10/10 [==============================] - 0s 3ms/step - loss: 0.0204 - accuracy: 0.9945\n",
      "Epoch 77/100\n",
      "10/10 [==============================] - 0s 3ms/step - loss: 0.0313 - accuracy: 0.9851\n",
      "Epoch 78/100\n",
      "10/10 [==============================] - 0s 3ms/step - loss: 0.0266 - accuracy: 0.9895\n",
      "Epoch 79/100\n",
      "10/10 [==============================] - 0s 3ms/step - loss: 0.0231 - accuracy: 0.9915\n",
      "Epoch 80/100\n",
      "10/10 [==============================] - 0s 3ms/step - loss: 0.0254 - accuracy: 0.9898\n",
      "Epoch 81/100\n",
      "10/10 [==============================] - 0s 2ms/step - loss: 0.0321 - accuracy: 0.9861\n",
      "Epoch 82/100\n",
      "10/10 [==============================] - 0s 2ms/step - loss: 0.0317 - accuracy: 0.9859\n",
      "Epoch 83/100\n",
      "10/10 [==============================] - 0s 2ms/step - loss: 0.0197 - accuracy: 0.9945\n",
      "Epoch 84/100\n",
      "10/10 [==============================] - 0s 2ms/step - loss: 0.0286 - accuracy: 0.9891\n",
      "Epoch 85/100\n",
      "10/10 [==============================] - 0s 2ms/step - loss: 0.0231 - accuracy: 0.9924\n",
      "Epoch 86/100\n",
      "10/10 [==============================] - ETA: 0s - loss: 0.0028 - accuracy: 1.00 - 0s 2ms/step - loss: 0.0241 - accuracy: 0.9909\n",
      "Epoch 87/100\n",
      "10/10 [==============================] - 0s 2ms/step - loss: 0.0216 - accuracy: 0.9917\n",
      "Epoch 88/100\n",
      "10/10 [==============================] - 0s 2ms/step - loss: 0.0179 - accuracy: 0.9957\n",
      "Epoch 89/100\n",
      "10/10 [==============================] - 0s 2ms/step - loss: 0.0180 - accuracy: 0.9944\n",
      "Epoch 90/100\n",
      "10/10 [==============================] - 0s 2ms/step - loss: 0.0162 - accuracy: 0.9959\n",
      "Epoch 91/100\n",
      "10/10 [==============================] - 0s 2ms/step - loss: 0.0191 - accuracy: 0.9934\n",
      "Epoch 92/100\n",
      "10/10 [==============================] - ETA: 0s - loss: 0.0102 - accuracy: 1.00 - 0s 3ms/step - loss: 0.0278 - accuracy: 0.9901\n",
      "Epoch 93/100\n",
      "10/10 [==============================] - 0s 2ms/step - loss: 0.0207 - accuracy: 0.9941\n",
      "Epoch 94/100\n",
      "10/10 [==============================] - 0s 2ms/step - loss: 0.0318 - accuracy: 0.9838\n",
      "Epoch 95/100\n",
      "10/10 [==============================] - 0s 2ms/step - loss: 0.0328 - accuracy: 0.9844\n",
      "Epoch 96/100\n",
      "10/10 [==============================] - 0s 2ms/step - loss: 0.0272 - accuracy: 0.9849\n",
      "Epoch 97/100\n",
      "10/10 [==============================] - 0s 3ms/step - loss: 0.0278 - accuracy: 0.9906\n",
      "Epoch 98/100\n",
      "10/10 [==============================] - 0s 2ms/step - loss: 0.0219 - accuracy: 0.9912\n",
      "Epoch 99/100\n",
      "10/10 [==============================] - 0s 3ms/step - loss: 0.0264 - accuracy: 0.9868\n",
      "Epoch 100/100\n",
      "10/10 [==============================] - 0s 3ms/step - loss: 0.0249 - accuracy: 0.9912\n"
     ]
    },
    {
     "data": {
      "text/plain": [
       "<tensorflow.python.keras.callbacks.History at 0xbc0636a00>"
      ]
     },
     "execution_count": 51,
     "metadata": {},
     "output_type": "execute_result"
    }
   ],
   "source": [
    "model = Sequential()\n",
    "model.add(Dense(units = 3, input_shape = (2,) , activation = 'softmax'))\n",
    "adam = Adam(lr = 0.1)\n",
    "model.compile(adam,loss = 'categorical_crossentropy', metrics = ['accuracy'])\n",
    "model.fit(X, y_cat, verbose = 1, batch_size = 50, epochs = 100, shuffle = 'true' )"
   ]
  },
  {
   "cell_type": "code",
   "execution_count": 52,
   "metadata": {},
   "outputs": [],
   "source": [
    "def plot_decision_boundary(X,y_cat,model):\n",
    "    x_span = np.linspace(min(X[:,0])-1, max(X[:,0])+1)\n",
    "    y_span = np.linspace(min(X[:,1])-1, max(X[:,1])+1)\n",
    "    xx,yy = np.meshgrid(x_span,y_span)\n",
    "    xx_,yy_ = xx.ravel(), yy.ravel()\n",
    "    grid = np.c_[xx_,yy_]\n",
    "    pred_func = model.predict_classes(grid)\n",
    "    z = pred_func.reshape(xx.shape)\n",
    "    plt.contourf(xx,yy,z)"
   ]
  },
  {
   "cell_type": "code",
   "execution_count": 53,
   "metadata": {},
   "outputs": [
    {
     "name": "stderr",
     "output_type": "stream",
     "text": [
      "E:\\Anaconda\\lib\\site-packages\\tensorflow\\python\\keras\\engine\\sequential.py:450: UserWarning: `model.predict_classes()` is deprecated and will be removed after 2021-01-01. Please use instead:* `np.argmax(model.predict(x), axis=-1)`,   if your model does multi-class classification   (e.g. if it uses a `softmax` last-layer activation).* `(model.predict(x) > 0.5).astype(\"int32\")`,   if your model does binary classification   (e.g. if it uses a `sigmoid` last-layer activation).\n",
      "  warnings.warn('`model.predict_classes()` is deprecated and '\n"
     ]
    },
    {
     "data": {
      "text/plain": [
       "<matplotlib.collections.PathCollection at 0xbbd381c70>"
      ]
     },
     "execution_count": 53,
     "metadata": {},
     "output_type": "execute_result"
    },
    {
     "data": {
      "image/png": "[encoded data removed]",
      "text/plain": [
       "<Figure size 432x288 with 1 Axes>"
      ]
     },
     "metadata": {
      "needs_background": "light"
     },
     "output_type": "display_data"
    }
   ],
   "source": [
    "plot_decision_boundary(X,y_cat,model)\n",
    "plt.scatter(X[y==0,0], X[y==0,1])\n",
    "plt.scatter(X[y==1,0], X[y==1,1])\n",
    "plt.scatter(X[y==2,0], X[y==2,1])"
   ]
  },
  {
   "cell_type": "code",
   "execution_count": 54,
   "metadata": {},
   "outputs": [
    {
     "name": "stdout",
     "output_type": "stream",
     "text": [
      "prediction is: [0]\n"
     ]
    },
    {
     "data": {
      "text/plain": [
       "[<matplotlib.lines.Line2D at 0xbc0c2eb80>]"
      ]
     },
     "execution_count": 54,
     "metadata": {},
     "output_type": "execute_result"
    },
    {
     "data": {
      "image/png": "[encoded data removed]",
      "text/plain": [
       "<Figure size 432x288 with 1 Axes>"
      ]
     },
     "metadata": {
      "needs_background": "light"
     },
     "output_type": "display_data"
    }
   ],
   "source": [
    "plot_decision_boundary(X,y_cat,model)\n",
    "plt.scatter(X[y==0,0], X[y==0,1])\n",
    "plt.scatter(X[y==1,0], X[y==1,1])\n",
    "plt.scatter(X[y==2,0], X[y==2,1])\n",
    "x = 1\n",
    "y = 1\n",
    "point = np.array([[x,y]])\n",
    "prediction = model.predict_classes(point)\n",
    "print('prediction is:', prediction)\n",
    "plt.plot([x],[y], marker = 'o', markersize = 10, color = 'r')"
   ]
  },
  {
   "cell_type": "code",
   "execution_count": null,
   "metadata": {},
   "outputs": [],
   "source": []
  }
 ],
 "metadata": {
  "kernelspec": {
   "display_name": "Python 3",
   "language": "python",
   "name": "python3"
  },
  "language_info": {
   "codemirror_mode": {
    "name": "ipython",
    "version": 3
   },
   "file_extension": ".py",
   "mimetype": "text/x-python",
   "name": "python",
   "nbconvert_exporter": "python",
   "pygments_lexer": "ipython3",
   "version": "3.8.5"
  }
 },
 "nbformat": 4,
 "nbformat_minor": 4
}
